{
 "cells": [
  {
   "cell_type": "code",
   "execution_count": 1,
   "metadata": {},
   "outputs": [
    {
     "data": {
      "text/plain": [
       "True"
      ]
     },
     "execution_count": 1,
     "metadata": {},
     "output_type": "execute_result"
    }
   ],
   "source": [
    "import os\n",
    "from dotenv import load_dotenv\n",
    "\n",
    "load_dotenv()"
   ]
  },
  {
   "cell_type": "code",
   "execution_count": 2,
   "metadata": {},
   "outputs": [],
   "source": [
    "GOOGLE_API_KEY = os.getenv('GOOGLE_API_KEY')"
   ]
  },
  {
   "cell_type": "code",
   "execution_count": 281,
   "metadata": {},
   "outputs": [],
   "source": [
    "from langchain_google_genai import (\n",
    "    ChatGoogleGenerativeAI,\n",
    "    HarmBlockThreshold,\n",
    "    HarmCategory,\n",
    ")\n",
    "\n",
    "llm = ChatGoogleGenerativeAI(\n",
    "    model=\"gemini-pro\",\n",
    "    safety_settings={\n",
    "        HarmCategory.HARM_CATEGORY_DANGEROUS_CONTENT: HarmBlockThreshold.BLOCK_NONE,\n",
    "    },\n",
    ")"
   ]
  },
  {
   "cell_type": "markdown",
   "metadata": {},
   "source": [
    "### Connect with databse and ask basic questions"
   ]
  },
  {
   "cell_type": "code",
   "execution_count": 282,
   "metadata": {},
   "outputs": [
    {
     "name": "stdout",
     "output_type": "stream",
     "text": [
      "\n",
      "CREATE TABLE customers (\n",
      "\t`CustomerID` INTEGER(11) NOT NULL, \n",
      "\t`Name` VARCHAR(255), \n",
      "\t`Address` TEXT, \n",
      "\t`ContactInfo` VARCHAR(255), \n",
      "\tPRIMARY KEY (`CustomerID`)\n",
      ")ENGINE=MyISAM COLLATE latin1_swedish_ci DEFAULT CHARSET=latin1\n",
      "\n",
      "/*\n",
      "3 rows from customers table:\n",
      "CustomerID\tName\tAddress\tContactInfo\n",
      "1\tJohn Doe\t101 Main St, Anytown, USA\tjohn.doe@example.com\n",
      "2\tJane Smith\t102 Pine Rd, Somewhere, USA\tjane.smith@example.com\n",
      "3\tMichael Johnson\t103 Oak St, Thisplace, USA\tmichael.johnson@example.com\n",
      "*/\n",
      "\n",
      "\n",
      "CREATE TABLE inventory (\n",
      "\t`InventoryID` INTEGER(11) NOT NULL, \n",
      "\t`MedicineID` INTEGER(11), \n",
      "\t`SupplierID` INTEGER(11), \n",
      "\t`Quantity` INTEGER(11), \n",
      "\t`BatchNo` VARCHAR(255), \n",
      "\t`ExpiryDate` DATE, \n",
      "\tPRIMARY KEY (`InventoryID`)\n",
      ")ENGINE=MyISAM COLLATE latin1_swedish_ci DEFAULT CHARSET=latin1\n",
      "\n",
      "/*\n",
      "3 rows from inventory table:\n",
      "InventoryID\tMedicineID\tSupplierID\tQuantity\tBatchNo\tExpiryDate\n",
      "1\t1\t1\t150\tB1234\t2025-09-30\n",
      "2\t2\t2\t200\tC2345\t2024-10-15\n",
      "3\t3\t3\t120\tD3456\t2026-01-20\n",
      "*/\n",
      "\n",
      "\n",
      "CREATE TABLE medicines (\n",
      "\t`MedicineID` INTEGER(11) NOT NULL, \n",
      "\t`Name` VARCHAR(255), \n",
      "\t`GenericName` VARCHAR(255), \n",
      "\t`Formulation` VARCHAR(100), \n",
      "\t`Strength` VARCHAR(100), \n",
      "\tPRIMARY KEY (`MedicineID`)\n",
      ")ENGINE=MyISAM COLLATE latin1_swedish_ci DEFAULT CHARSET=latin1\n",
      "\n",
      "/*\n",
      "3 rows from medicines table:\n",
      "MedicineID\tName\tGenericName\tFormulation\tStrength\n",
      "1\tAmoxicillin\tAmoxicillin\tCapsule\t500mg\n",
      "2\tParacetamol\tAcetaminophen\tTablet\t500mg\n",
      "3\tLisinopril\tLisinopril\tTablet\t10mg\n",
      "*/\n",
      "\n",
      "\n",
      "CREATE TABLE sales (\n",
      "\t`SaleID` INTEGER(11) NOT NULL, \n",
      "\t`CustomerID` INTEGER(11), \n",
      "\t`MedicineID` INTEGER(11), \n",
      "\t`Quantity` INTEGER(11), \n",
      "\t`SaleDate` DATE, \n",
      "\t`TotalAmount` DECIMAL(10, 2), \n",
      "\tPRIMARY KEY (`SaleID`)\n",
      ")ENGINE=MyISAM COLLATE latin1_swedish_ci DEFAULT CHARSET=latin1\n",
      "\n",
      "/*\n",
      "3 rows from sales table:\n",
      "SaleID\tCustomerID\tMedicineID\tQuantity\tSaleDate\tTotalAmount\n",
      "1\t11\t2\t2\t2024-01-01\t40.00\n",
      "2\t12\t4\t1\t2024-01-02\t10.50\n",
      "3\t13\t6\t1\t2024-01-03\t22.00\n",
      "*/\n",
      "\n",
      "\n",
      "CREATE TABLE suppliers (\n",
      "\t`SupplierID` INTEGER(11) NOT NULL, \n",
      "\t`Name` VARCHAR(255), \n",
      "\t`Address` TEXT, \n",
      "\t`ContactInfo` VARCHAR(255), \n",
      "\tPRIMARY KEY (`SupplierID`)\n",
      ")ENGINE=MyISAM COLLATE latin1_swedish_ci DEFAULT CHARSET=latin1\n",
      "\n",
      "/*\n",
      "3 rows from suppliers table:\n",
      "SupplierID\tName\tAddress\tContactInfo\n",
      "1\tPharmaSupply Co.\t100 Supplier St, Pharmacity\tcontact@pharmasupply.co\n",
      "2\tGlobal Meds Ltd.\t200 Global Ave, Medtown\tinfo@globalmeds.com\n",
      "3\tHealthSource Distributors\t300 Health Rd, Wellness City\tsupport@healthsource.com\n",
      "*/\n"
     ]
    }
   ],
   "source": [
    "from langchain_community.utilities import SQLDatabase\n",
    "\n",
    "db_user = \"root\"\n",
    "db_password = \"\"\n",
    "db_host = \"localhost\"\n",
    "db_name = \"Pharma\"\n",
    "db_port = 3307\n",
    "\n",
    "db = SQLDatabase.from_uri(f\"mysql+pymysql://{db_user}:{db_password}@{db_host}:{db_port}/{db_name}\",sample_rows_in_table_info=3)\n",
    "\n",
    "print(db.table_info)\n"
   ]
  },
  {
   "cell_type": "code",
   "execution_count": 181,
   "metadata": {},
   "outputs": [
    {
     "data": {
      "text/plain": [
       "<bound method SQLDatabase.get_table_info of <langchain_community.utilities.sql_database.SQLDatabase object at 0x000001ACB28A2D90>>"
      ]
     },
     "execution_count": 181,
     "metadata": {},
     "output_type": "execute_result"
    }
   ],
   "source": [
    "db.get_table_info"
   ]
  },
  {
   "cell_type": "code",
   "execution_count": 17,
   "metadata": {},
   "outputs": [
    {
     "data": {
      "text/plain": [
       "\"[(1, 'John Doe', '101 Main St, Anytown, USA', 'john.doe@example.com'), (2, 'Jane Smith', '102 Pine Rd, Somewhere, USA', 'jane.smith@example.com'), (3, 'Michael Johnson', '103 Oak St, Thisplace, USA', 'michael.johnson@example.com'), (4, 'Emily Davis', '104 Maple Ave, Thatplace, USA', 'emily.davis@example.com'), (5, 'Daniel Martinez', '105 Elm St, Anywhere, USA', 'daniel.martinez@example.com'), (6, 'Lucy Garcia', '106 Cedar Rd, Somewhere Else, USA', 'lucy.garcia@example.com'), (7, 'Ethan Brown', '107 Birch St, Overthere, USA', 'ethan.brown@example.com'), (8, 'Sophia Wilson', '108 Ash Ave, Right Here, USA', 'sophia.wilson@example.com'), (9, 'Mason Miller', '109 Pine St, Left There, USA', 'mason.miller@example.com'), (10, 'Olivia Moore', '110 Spruce Rd, Nowhere, USA', 'olivia.moore@example.com')]\""
      ]
     },
     "execution_count": 17,
     "metadata": {},
     "output_type": "execute_result"
    }
   ],
   "source": [
    "db.run(\"SELECT * FROM CUSTOMERS LIMIT 10;\")"
   ]
  },
  {
   "cell_type": "code",
   "execution_count": 283,
   "metadata": {},
   "outputs": [],
   "source": [
    "from langchain.chains import create_sql_query_chain\n",
    "\n",
    "chain = create_sql_query_chain(llm, db)"
   ]
  },
  {
   "cell_type": "code",
   "execution_count": 40,
   "metadata": {},
   "outputs": [
    {
     "name": "stdout",
     "output_type": "stream",
     "text": [
      "SELECT \n",
      "    COUNT(*) AS `Total Medicines`\n",
      "FROM\n",
      "    medicines;\n"
     ]
    }
   ],
   "source": [
    "print(extract_sql(response))"
   ]
  },
  {
   "cell_type": "code",
   "execution_count": 27,
   "metadata": {},
   "outputs": [
    {
     "data": {
      "text/plain": [
       "'You are a MySQL expert. Given an input question, first create a syntactically correct MySQL query to run, then look at the results of the query and return the answer to the input question.\\nUnless the user specifies in the question a specific number of examples to obtain, query for at most {top_k} results using the LIMIT clause as per MySQL. You can order the results to return the most informative data in the database.\\nNever query for all columns from a table. You must query only the columns that are needed to answer the question. Wrap each column name in backticks (`) to denote them as delimited identifiers.\\nPay attention to use only the column names you can see in the tables below. Be careful to not query for columns that do not exist. Also, pay attention to which column is in which table.\\nPay attention to use CURDATE() function to get the current date, if the question involves \"today\".\\n\\nUse the following format:\\n\\nQuestion: Question here\\nSQLQuery: SQL Query to run\\nSQLResult: Result of the SQLQuery\\nAnswer: Final answer here\\n\\nOnly use the following tables:\\n{table_info}\\n\\nQuestion: {input}'"
      ]
     },
     "execution_count": 27,
     "metadata": {},
     "output_type": "execute_result"
    }
   ],
   "source": [
    "chain.get_prompts()[0].template"
   ]
  },
  {
   "cell_type": "code",
   "execution_count": 76,
   "metadata": {},
   "outputs": [
    {
     "name": "stdout",
     "output_type": "stream",
     "text": [
      "[('Amlodipine',), ('Amoxicillin',), ('Aspirin',), ('Atorvastatin',), ('Azithromycin',)]\n"
     ]
    }
   ],
   "source": [
    "# from langchain_community.tools.sql_database.tool import QuerySQLDataBaseTool\n",
    "# from langchain_core.output_parsers import StrOutputParser\n",
    "\n",
    "# execute_query = QuerySQLDataBaseTool(db=db)\n",
    "# write_query = create_sql_query_chain(llm, db)\n",
    "# chain = write_query | extract_sql | execute_query | StrOutputParser()\n",
    "# result = chain.invoke({\"question\": \"List all medicines that have less than 200 units in stock.\"})\n",
    "\n",
    "# print(result.strip())\n"
   ]
  },
  {
   "cell_type": "markdown",
   "metadata": {},
   "source": [
    "### Few shot learning examples"
   ]
  },
  {
   "cell_type": "code",
   "execution_count": 286,
   "metadata": {},
   "outputs": [],
   "source": [
    "few_shots = [\n",
    "    {\n",
    "        'Question': \"What is the total quantity of Amoxicillin in stock?\",\n",
    "        'SQLQuery': \"SELECT SUM(Quantity) FROM Inventory JOIN Medicines ON Inventory.MedicineID = Medicines.MedicineID WHERE Medicines.Name = 'Amoxicillin'\",\n",
    "        'SQLResult': \"Result of the SQL query\",\n",
    "        'Answer': \"320\"\n",
    "    },\n",
    "    {\n",
    "        'Question': \"How many different medicines are supplied by 'PharmaSupply Co.'?\",\n",
    "        'SQLQuery': \"SELECT COUNT(DISTINCT MedicineID) FROM Inventory JOIN Suppliers ON Inventory.SupplierID = Suppliers.SupplierID WHERE Suppliers.Name = 'PharmaSupply Co.'\",\n",
    "        'SQLResult': \"Result of the SQL query\",\n",
    "        'Answer': \"5\"\n",
    "    },\n",
    "    {\n",
    "        'Question': \"What is the total sales amount for February 2024?\",\n",
    "        'SQLQuery': \"SELECT SUM(TotalAmount) FROM Sales WHERE SaleDate BETWEEN '2024-02-01' AND '2024-02-28'\",\n",
    "        'SQLResult': \"Result of the SQL query\",\n",
    "        'Answer': \"1543.75\"\n",
    "    },\n",
    "    {\n",
    "        'Question': \"List all medicines that have less than 200 units in stock.\",\n",
    "        'SQLQuery': \"SELECT Medicines.Name FROM Inventory JOIN Medicines ON Inventory.MedicineID = Medicines.MedicineID WHERE Inventory.Quantity < 200\",\n",
    "        'SQLResult': \"Result of the SQL query\",\n",
    "        'Answer': \"Medicine names with less than 50 units in stock\"\n",
    "    },\n",
    "    {\n",
    "        'Question': \"Which customer made the most purchases in January 2024?\",\n",
    "        'SQLQuery': \"SELECT Customers.Name FROM Sales JOIN Customers ON Sales.CustomerID = Customers.CustomerID WHERE SaleDate BETWEEN '2024-01-01' AND '2024-01-31' GROUP BY Sales.CustomerID ORDER BY SUM(Sales.Quantity) DESC LIMIT 1\",\n",
    "        'SQLResult': \"Result of the SQL query\",\n",
    "        'Answer': \"Customer name with the most purchases\"\n",
    "    },\n",
    "    {\n",
    "        'Question': \"How many unique suppliers are there for the medicine 'Lisinopril'?\",\n",
    "        'SQLQuery': \"SELECT COUNT(DISTINCT SupplierID) FROM Inventory JOIN Medicines ON Inventory.MedicineID = Medicines.MedicineID WHERE Medicines.Name = 'Lisinopril'\",\n",
    "        'SQLResult': \"Result of the SQL query\",\n",
    "        'Answer': \"3\"\n",
    "    },\n",
    "    {\n",
    "        'Question': \"What is the average sale amount per transaction in March 2024?\",\n",
    "        'SQLQuery': \"SELECT AVG(TotalAmount) FROM Sales WHERE SaleDate BETWEEN '2024-03-01' AND '2024-03-31'\",\n",
    "        'SQLResult': \"Result of the SQL query\",\n",
    "        'Answer': \"27.89\"\n",
    "    },\n",
    "    {\n",
    "        'Question': \"Find the name and contact information of customers who have purchased 'Metformin' more than once.\",\n",
    "        'SQLQuery': \"SELECT DISTINCT Customers.Name, Customers.ContactInfo FROM Sales JOIN Customers ON Sales.CustomerID = Customers.CustomerID JOIN Medicines ON Sales.MedicineID = Medicines.MedicineID WHERE Medicines.Name = 'Metformin' GROUP BY Sales.CustomerID HAVING COUNT(Sales.SaleID) > 1\",\n",
    "        'SQLResult': \"Result of the SQL query\",\n",
    "        'Answer': \"Customer names and contact information\"\n",
    "    },\n",
    "    {\n",
    "        'Question': \"List all customers who have not made any purchases in the last 3 months.\",\n",
    "        'SQLQuery': \"SELECT Customers.Name FROM Customers LEFT JOIN Sales ON Customers.CustomerID = Sales.CustomerID WHERE Sales.SaleDate <= DATE_SUB(NOW(), INTERVAL 3 MONTH) OR Sales.SaleID IS NULL\",\n",
    "        'SQLResult': \"Result of the SQL query\",\n",
    "        'Answer': \"List of customers who have not made any purchases\"\n",
    "    },\n",
    "    {\n",
    "        'Question': \"Find the top 5 best-selling medicines in terms of total revenue generated.\",\n",
    "        'SQLQuery': \"SELECT Medicines.Name, SUM(Sales.Quantity * Sales.TotalAmount) AS Revenue FROM Sales JOIN Medicines ON Sales.MedicineID = Medicines.MedicineID GROUP BY Medicines.MedicineID ORDER BY Revenue DESC LIMIT 5\",\n",
    "        'SQLResult': \"Result of the SQL query\",\n",
    "        'Answer': \"Top 5 best-selling medicines by revenue\"\n",
    "    },\n",
    "    {\n",
    "        'Question': \"Calculate the average quantity of medicines purchased by each customer.\",\n",
    "        'SQLQuery': \"SELECT Customers.Name, AVG(Sales.Quantity) AS AvgQuantity FROM Sales JOIN Customers ON Sales.CustomerID = Customers.CustomerID GROUP BY Customers.CustomerID\",\n",
    "        'SQLResult': \"Result of the SQL query\",\n",
    "        'Answer': \"Average quantity of medicines purchased by each customer\"\n",
    "    },\n",
    "    {\n",
    "        'Question': \"List all medicines that are about to expire within the next month, sorted by expiry date.\",\n",
    "        'SQLQuery': \"SELECT Medicines.Name, Inventory.ExpiryDate FROM Inventory JOIN Medicines ON Inventory.MedicineID = Medicines.MedicineID WHERE Inventory.ExpiryDate BETWEEN NOW() AND DATE_ADD(NOW(), INTERVAL 1 MONTH) ORDER BY Inventory.ExpiryDate\",\n",
    "        'SQLResult': \"Result of the SQL query\",\n",
    "        'Answer': \"List of medicines about to expire within the next month\"\n",
    "    },\n",
    "    {\n",
    "        'Question': \"Find the total sales amount for each month of the year 2024.\",\n",
    "        'SQLQuery': \"SELECT DATE_FORMAT(SaleDate, '%Y-%m') AS Month, SUM(TotalAmount) AS TotalSales FROM Sales WHERE YEAR(SaleDate) = 2024 GROUP BY Month\",\n",
    "        'SQLResult': \"Result of the SQL query\",\n",
    "        'Answer': \"Total sales amount for each month of 2024\"\n",
    "    },\n",
    "    {\n",
    "        'Question': \"Identify the suppliers who have supplied all available medicines.\",\n",
    "        'SQLQuery': \"SELECT Suppliers.Name FROM Suppliers WHERE NOT EXISTS (SELECT DISTINCT MedicineID FROM Medicines WHERE NOT EXISTS (SELECT MedicineID FROM Inventory WHERE Inventory.MedicineID = Medicines.MedicineID AND Inventory.SupplierID = Suppliers.SupplierID))\",\n",
    "        'SQLResult': \"Result of the SQL query\",\n",
    "        'Answer': \"Suppliers who have supplied all available medicines\"\n",
    "    }\n",
    "]"
   ]
  },
  {
   "cell_type": "markdown",
   "metadata": {},
   "source": [
    "### Creating Semantic Similarity Based Example Selector"
   ]
  },
  {
   "cell_type": "code",
   "execution_count": 287,
   "metadata": {},
   "outputs": [],
   "source": [
    "from langchain_core.example_selectors import SemanticSimilarityExampleSelector\n",
    "from langchain_community.embeddings import HuggingFaceEmbeddings\n",
    "from langchain_community.vectorstores import Chroma\n",
    "\n",
    "embeddings = HuggingFaceEmbeddings()\n",
    "to_vectorize = [\" \".join(example.values()) for example in few_shots]"
   ]
  },
  {
   "cell_type": "code",
   "execution_count": 288,
   "metadata": {},
   "outputs": [
    {
     "data": {
      "text/plain": [
       "[\"What is the total quantity of Amoxicillin in stock? SELECT SUM(Quantity) FROM Inventory JOIN Medicines ON Inventory.MedicineID = Medicines.MedicineID WHERE Medicines.Name = 'Amoxicillin' Result of the SQL query 320\",\n",
       " \"How many different medicines are supplied by 'PharmaSupply Co.'? SELECT COUNT(DISTINCT MedicineID) FROM Inventory JOIN Suppliers ON Inventory.SupplierID = Suppliers.SupplierID WHERE Suppliers.Name = 'PharmaSupply Co.' Result of the SQL query 5\",\n",
       " \"What is the total sales amount for February 2024? SELECT SUM(TotalAmount) FROM Sales WHERE SaleDate BETWEEN '2024-02-01' AND '2024-02-28' Result of the SQL query 1543.75\",\n",
       " 'List all medicines that have less than 200 units in stock. SELECT Medicines.Name FROM Inventory JOIN Medicines ON Inventory.MedicineID = Medicines.MedicineID WHERE Inventory.Quantity < 200 Result of the SQL query Medicine names with less than 50 units in stock',\n",
       " \"Which customer made the most purchases in January 2024? SELECT Customers.Name FROM Sales JOIN Customers ON Sales.CustomerID = Customers.CustomerID WHERE SaleDate BETWEEN '2024-01-01' AND '2024-01-31' GROUP BY Sales.CustomerID ORDER BY SUM(Sales.Quantity) DESC LIMIT 1 Result of the SQL query Customer name with the most purchases\",\n",
       " \"How many unique suppliers are there for the medicine 'Lisinopril'? SELECT COUNT(DISTINCT SupplierID) FROM Inventory JOIN Medicines ON Inventory.MedicineID = Medicines.MedicineID WHERE Medicines.Name = 'Lisinopril' Result of the SQL query 3\",\n",
       " \"What is the average sale amount per transaction in March 2024? SELECT AVG(TotalAmount) FROM Sales WHERE SaleDate BETWEEN '2024-03-01' AND '2024-03-31' Result of the SQL query 27.89\",\n",
       " \"Find the name and contact information of customers who have purchased 'Metformin' more than once. SELECT DISTINCT Customers.Name, Customers.ContactInfo FROM Sales JOIN Customers ON Sales.CustomerID = Customers.CustomerID JOIN Medicines ON Sales.MedicineID = Medicines.MedicineID WHERE Medicines.Name = 'Metformin' GROUP BY Sales.CustomerID HAVING COUNT(Sales.SaleID) > 1 Result of the SQL query Customer names and contact information\",\n",
       " 'List all customers who have not made any purchases in the last 3 months. SELECT Customers.Name FROM Customers LEFT JOIN Sales ON Customers.CustomerID = Sales.CustomerID WHERE Sales.SaleDate <= DATE_SUB(NOW(), INTERVAL 3 MONTH) OR Sales.SaleID IS NULL Result of the SQL query List of customers who have not made any purchases',\n",
       " 'Find the top 5 best-selling medicines in terms of total revenue generated. SELECT Medicines.Name, SUM(Sales.Quantity * Sales.TotalAmount) AS Revenue FROM Sales JOIN Medicines ON Sales.MedicineID = Medicines.MedicineID GROUP BY Medicines.MedicineID ORDER BY Revenue DESC LIMIT 5 Result of the SQL query Top 5 best-selling medicines by revenue',\n",
       " 'Calculate the average quantity of medicines purchased by each customer. SELECT Customers.Name, AVG(Sales.Quantity) AS AvgQuantity FROM Sales JOIN Customers ON Sales.CustomerID = Customers.CustomerID GROUP BY Customers.CustomerID Result of the SQL query Average quantity of medicines purchased by each customer',\n",
       " 'List all medicines that are about to expire within the next month, sorted by expiry date. SELECT Medicines.Name, Inventory.ExpiryDate FROM Inventory JOIN Medicines ON Inventory.MedicineID = Medicines.MedicineID WHERE Inventory.ExpiryDate BETWEEN NOW() AND DATE_ADD(NOW(), INTERVAL 1 MONTH) ORDER BY Inventory.ExpiryDate Result of the SQL query List of medicines about to expire within the next month',\n",
       " \"Find the total sales amount for each month of the year 2024. SELECT DATE_FORMAT(SaleDate, '%Y-%m') AS Month, SUM(TotalAmount) AS TotalSales FROM Sales WHERE YEAR(SaleDate) = 2024 GROUP BY Month Result of the SQL query Total sales amount for each month of 2024\",\n",
       " 'Identify the suppliers who have supplied all available medicines. SELECT Suppliers.Name FROM Suppliers WHERE NOT EXISTS (SELECT DISTINCT MedicineID FROM Medicines WHERE NOT EXISTS (SELECT MedicineID FROM Inventory WHERE Inventory.MedicineID = Medicines.MedicineID AND Inventory.SupplierID = Suppliers.SupplierID)) Result of the SQL query Suppliers who have supplied all available medicines']"
      ]
     },
     "execution_count": 288,
     "metadata": {},
     "output_type": "execute_result"
    }
   ],
   "source": [
    "to_vectorize"
   ]
  },
  {
   "cell_type": "code",
   "execution_count": 289,
   "metadata": {},
   "outputs": [],
   "source": [
    "vectorstore = Chroma.from_texts(to_vectorize, embeddings, metadatas=few_shots)"
   ]
  },
  {
   "cell_type": "code",
   "execution_count": 290,
   "metadata": {},
   "outputs": [
    {
     "data": {
      "text/plain": [
       "[{'Answer': 'Average quantity of medicines purchased by each customer',\n",
       "  'Question': 'Calculate the average quantity of medicines purchased by each customer.',\n",
       "  'SQLQuery': 'SELECT Customers.Name, AVG(Sales.Quantity) AS AvgQuantity FROM Sales JOIN Customers ON Sales.CustomerID = Customers.CustomerID GROUP BY Customers.CustomerID',\n",
       "  'SQLResult': 'Result of the SQL query'},\n",
       " {'Answer': 'Average quantity of medicines purchased by each customer',\n",
       "  'Question': 'Calculate the average quantity of medicines purchased by each customer.',\n",
       "  'SQLQuery': 'SELECT Customers.Name, AVG(Sales.Quantity) AS AvgQuantity FROM Sales JOIN Customers ON Sales.CustomerID = Customers.CustomerID GROUP BY Customers.CustomerID',\n",
       "  'SQLResult': 'Result of the SQL query'}]"
      ]
     },
     "execution_count": 290,
     "metadata": {},
     "output_type": "execute_result"
    }
   ],
   "source": [
    "example_selector = SemanticSimilarityExampleSelector(\n",
    "    vectorstore=vectorstore,\n",
    "    k=2,\n",
    ")\n",
    "\n",
    "example_selector.select_examples({\"Question\": \"How many totall no of customers?\"})"
   ]
  },
  {
   "cell_type": "markdown",
   "metadata": {},
   "source": [
    "### Setting up PromptTemplate"
   ]
  },
  {
   "cell_type": "code",
   "execution_count": 291,
   "metadata": {},
   "outputs": [],
   "source": [
    "mysql_prompt = \"\"\"You are a MySQL expert. Given an input question, first create a syntactically correct MySQL query to run, then look at the results of the query and return the answer to the input question.\n",
    "If the question explicitly asks to list down all relevant entries without limiting them, do not use the LIMIT clause, and retrieve all matching entries.\n",
    "Unless the user specifies in the question a specific number of examples to obtain, query for at most {top_k} results using the LIMIT clause as per MySQL. You can order the results to return the most informative data in the database.\n",
    "Never query for all columns from a table. You must query only the columns that are needed to answer the question. Wrap each column name in backticks (`) to denote them as delimited identifiers.\n",
    "Pay attention to use only the column names you can see in the tables below. Be careful to not query for columns that do not exist. Also, pay attention to which column is in which table.\n",
    "Pay attention to use CURDATE() function to get the current date, if the question involves \"today\".\n",
    "\n",
    "Use the following format:\n",
    "\n",
    "Question: Question here\n",
    "SQLQuery: Query to run with no pre-amble\n",
    "SQLResult: Result of the SQLQuery\n",
    "Answer: Final answer here\n",
    "\n",
    "No pre-amble.\n",
    "\"\"\""
   ]
  },
  {
   "cell_type": "code",
   "execution_count": 292,
   "metadata": {},
   "outputs": [
    {
     "name": "stdout",
     "output_type": "stream",
     "text": [
      "Only use the following tables:\n",
      "{table_info}\n",
      "\n",
      "Question: {input}\n"
     ]
    }
   ],
   "source": [
    "from langchain.prompts import FewShotPromptTemplate\n",
    "from langchain.chains.sql_database.prompt import PROMPT_SUFFIX, _mysql_prompt\n",
    "\n",
    "print(PROMPT_SUFFIX)"
   ]
  },
  {
   "cell_type": "code",
   "execution_count": 293,
   "metadata": {},
   "outputs": [],
   "source": [
    "from langchain.prompts.prompt import PromptTemplate\n",
    "\n",
    "example_prompt = PromptTemplate(\n",
    "    input_variables=[\"Question\", \"SQLQuery\", \"SQLResult\",\"Answer\",],\n",
    "    template=\"\\nQuestion: {Question}\\nSQLQuery: {SQLQuery}\\nSQLResult: {SQLResult}\\nAnswer: {Answer}\",\n",
    ")"
   ]
  },
  {
   "cell_type": "code",
   "execution_count": 294,
   "metadata": {},
   "outputs": [],
   "source": [
    "few_shot_prompt = FewShotPromptTemplate(\n",
    "    example_selector=example_selector,\n",
    "    example_prompt=example_prompt,\n",
    "    prefix=mysql_prompt,\n",
    "    suffix=PROMPT_SUFFIX,\n",
    "    input_variables=[\"input\", \"table_info\", \"top_k\"], #These variables are used in the prefix and suffix\n",
    ")"
   ]
  },
  {
   "cell_type": "code",
   "execution_count": 302,
   "metadata": {},
   "outputs": [
    {
     "name": "stdout",
     "output_type": "stream",
     "text": [
      "SELECT Medicines.Name FROM Inventory JOIN Medicines ON Inventory.MedicineID = Medicines.MedicineID WHERE Inventory.Quantity > 100\n",
      "[('Amoxicillin',), ('Paracetamol',), ('Lisinopril',), ('Atorvastatin',), ('Simvastatin',), ('Cetirizine',), ('Ibuprofen',), ('Naproxen',), ('Prednisone',), ('Omeprazole',), ('Fluoxetine',), ('Warfarin',), ('Insulin Glargine',)]\n"
     ]
    }
   ],
   "source": [
    "from langchain_community.tools.sql_database.tool import QuerySQLDataBaseTool\n",
    "from langchain_core.output_parsers import StrOutputParser\n",
    "\n",
    "execute_query = QuerySQLDataBaseTool(db=db)\n",
    "\n",
    "query_chain = create_sql_query_chain(llm, db, prompt=few_shot_prompt)\n",
    "query = query_chain.invoke({\"question\": \"list down all the medicines names that are more than 100 in quantity\"})\n",
    "\n",
    "print(query)\n",
    "result = execute_query(query)\n",
    "print(result)\n"
   ]
  },
  {
   "cell_type": "code",
   "execution_count": 303,
   "metadata": {},
   "outputs": [
    {
     "name": "stdout",
     "output_type": "stream",
     "text": [
      "Based on the database query and the results obtained, we can extract the following information:\n",
      "\n",
      "1. The query was executed on two tables: \"Inventory\" and \"Medicines.\"\n",
      "\n",
      "2. The query retrieved the \"Name\" column from the \"Medicines\" table.\n",
      "\n",
      "3. The query joined the \"Inventory\" and \"Medicines\" tables on the \"MedicineID\" column, which is common between them.\n",
      "\n",
      "4. The query applied a filter condition to only include records from the \"Inventory\" table where the \"Quantity\" column is greater than 100.\n",
      "\n",
      "5. The results of the query returned 13 rows, which are the names of medicines that have a quantity greater than 100 in the inventory. These medicines are:\n",
      "   - Amoxicillin\n",
      "   - Paracetamol\n",
      "   - Lisinopril\n",
      "   - Atorvastatin\n",
      "   - Simvastatin\n",
      "   - Cetirizine\n",
      "   - Ibuprofen\n",
      "   - Naproxen\n",
      "   - Prednisone\n",
      "   - Omeprazole\n",
      "   - Fluoxetine\n",
      "   - Warfarin\n",
      "   - Insulin Glargine\n",
      "\n",
      "These results provide insights into the medicines that are adequately stocked in the inventory, with quantities exceeding 100. This information is valuable for inventory management and ensuring that there is sufficient supply of these medicines to meet demand.\n"
     ]
    }
   ],
   "source": [
    "def natural_language_response(result):\n",
    "    prompt_template = \"\"\"\n",
    "    Based on the query and result, write a natural language response:\n",
    "    Here are the queries and results from the latest database query:\n",
    "\n",
    "    SQL Query : {query}\n",
    "    Results : {result}\n",
    "    \"\"\"\n",
    "\n",
    "    prompt = prompt_template.format(query=query, result=result)\n",
    "\n",
    "    response = llm.invoke(prompt)\n",
    "\n",
    "    return response.content\n",
    "\n",
    "response = natural_language_response(result)\n",
    "\n",
    "print(response)"
   ]
  },
  {
   "cell_type": "code",
   "execution_count": 305,
   "metadata": {},
   "outputs": [
    {
     "name": "stdout",
     "output_type": "stream",
     "text": [
      "     Amoxicillin\n",
      "     Paracetamol\n",
      "      Lisinopril\n",
      "    Atorvastatin\n",
      "     Simvastatin\n",
      "      Cetirizine\n",
      "       Ibuprofen\n",
      "        Naproxen\n",
      "      Prednisone\n",
      "      Omeprazole\n",
      "      Fluoxetine\n",
      "        Warfarin\n",
      "Insulin Glargine\n"
     ]
    }
   ],
   "source": [
    "import ast\n",
    "import pandas as pd\n",
    "\n",
    "def process_result(result):\n",
    "    try:\n",
    "        if not result:\n",
    "            print(\"No results found...\")\n",
    "            return\n",
    "\n",
    "        correct_result = ast.literal_eval(result)\n",
    "        \n",
    "        if isinstance(correct_result, list) and all(isinstance(row, tuple) for row in correct_result):\n",
    "            df = pd.DataFrame(correct_result)\n",
    "            response = df.to_string(header=False, index=False)\n",
    "            return response\n",
    "        else:\n",
    "            response = natural_language_response(result)\n",
    "            return response\n",
    "    except Exception as e:\n",
    "        return (\"An error occurred:\", e)\n",
    "\n",
    "output = process_result(result)\n",
    "print(output)"
   ]
  },
  {
   "cell_type": "code",
   "execution_count": 297,
   "metadata": {},
   "outputs": [
    {
     "name": "stdout",
     "output_type": "stream",
     "text": [
      "        Amoxicillin   500mg\n",
      "        Paracetamol   500mg\n",
      "         Lisinopril    10mg\n",
      "          Metformin   500mg\n",
      "       Atorvastatin    10mg\n",
      "        Simvastatin    20mg\n",
      "         Cetirizine    10mg\n",
      "            Aspirin   100mg\n",
      "          Ibuprofen   400mg\n",
      "           Naproxen   250mg\n",
      "           Losartan    50mg\n",
      "Hydrochlorothiazide    25mg\n",
      "         Prednisone     5mg\n",
      "         Omeprazole    20mg\n",
      "         Amlodipine     5mg\n",
      "       Azithromycin   250mg\n",
      "         Fluoxetine    20mg\n",
      "           Warfarin     5mg\n",
      "   Insulin Glargine 100U/mL\n",
      "      Levothyroxine   50mcg\n"
     ]
    }
   ],
   "source": [
    "import ast\n",
    "import pandas as pd\n",
    "\n",
    "correct_result=ast.literal_eval(result)\n",
    "\n",
    "if isinstance(correct_result, list) and len(correct_result) > 0 and all(isinstance(row, tuple) for row in correct_result):\n",
    "    df = pd.DataFrame(correct_result)\n",
    "    print(df.to_string(header=False ,index=False))\n",
    "else:\n",
    "    result = natural_language_response(result)\n",
    "    print(result)"
   ]
  }
 ],
 "metadata": {
  "kernelspec": {
   "display_name": "Python 3",
   "language": "python",
   "name": "python3"
  },
  "language_info": {
   "codemirror_mode": {
    "name": "ipython",
    "version": 3
   },
   "file_extension": ".py",
   "mimetype": "text/x-python",
   "name": "python",
   "nbconvert_exporter": "python",
   "pygments_lexer": "ipython3",
   "version": "3.11.7"
  }
 },
 "nbformat": 4,
 "nbformat_minor": 2
}
